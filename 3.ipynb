{
 "cells": [
  {
   "cell_type": "code",
   "execution_count": 1,
   "id": "f7081f55-41bb-422c-8144-8a28443a7908",
   "metadata": {},
   "outputs": [
    {
     "name": "stdin",
     "output_type": "stream",
     "text": [
      " aaaaaaabbfff\n"
     ]
    },
    {
     "name": "stdout",
     "output_type": "stream",
     "text": [
      "7\n"
     ]
    }
   ],
   "source": [
    "string=input()\n",
    "length=len(string)\n",
    "i=0\n",
    "sum=1\n",
    "max1=0\n",
    "while i<length-1:\n",
    "    if string[i]==string[i+1]:\n",
    "        sum=sum+1\n",
    "        if(max1<sum):\n",
    "            max1=sum\n",
    "    else:\n",
    "        sum=1\n",
    "    i=i+1\n",
    "print(max1)\n",
    "\n",
    "    \n",
    "\n"
   ]
  },
  {
   "cell_type": "code",
   "execution_count": null,
   "id": "8f9c0cf2-257e-4292-88ab-6eafffa7b629",
   "metadata": {},
   "outputs": [],
   "source": []
  },
  {
   "cell_type": "code",
   "execution_count": null,
   "id": "da8054c9-582f-49c5-abd3-319fb1305277",
   "metadata": {},
   "outputs": [],
   "source": []
  },
  {
   "cell_type": "code",
   "execution_count": null,
   "id": "a16122b6-98e3-4f0f-9de2-f8d7da11bf39",
   "metadata": {},
   "outputs": [],
   "source": []
  }
 ],
 "metadata": {
  "kernelspec": {
   "display_name": "Python 3 (ipykernel)",
   "language": "python",
   "name": "python3"
  },
  "language_info": {
   "codemirror_mode": {
    "name": "ipython",
    "version": 3
   },
   "file_extension": ".py",
   "mimetype": "text/x-python",
   "name": "python",
   "nbconvert_exporter": "python",
   "pygments_lexer": "ipython3",
   "version": "3.9.12"
  }
 },
 "nbformat": 4,
 "nbformat_minor": 5
}
