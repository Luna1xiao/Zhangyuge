{
 "cells": [
  {
   "cell_type": "code",
   "execution_count": 7,
   "id": "8e064b81-4873-4d80-a3ec-f5f45da79c0b",
   "metadata": {},
   "outputs": [
    {
     "name": "stdout",
     "output_type": "stream",
     "text": [
      "41418:g=1.41418\n"
     ]
    }
   ],
   "source": [
    "def Square_root_1():\n",
    "    c=2\n",
    "    i=0\n",
    "    g=0\n",
    "    for j in range(0,c+1):\n",
    "        if(j*j>c and g==0):\n",
    "            g=j-1\n",
    "    while(abs(g*g-c)>0.0001):\n",
    "        g+=0.00001\n",
    "        i=i+1\n",
    "    print(\"%d:g=%.5f\"%(i,g))\n",
    "Square_root_1()\n"
   ]
  },
  {
   "cell_type": "code",
   "execution_count": 2,
   "id": "f4e6335d-c677-405a-a44e-d3442219a419",
   "metadata": {},
   "outputs": [
    {
     "name": "stdout",
     "output_type": "stream",
     "text": [
      "1:g=1.5000000000000\n",
      "2:g=1.2500000000000\n",
      "3:g=1.3750000000000\n",
      "4:g=1.4375000000000\n",
      "5:g=1.4062500000000\n",
      "6:g=1.4218750000000\n",
      "7:g=1.4140625000000\n",
      "8:g=1.4179687500000\n",
      "9:g=1.4160156250000\n",
      "10:g=1.4150390625000\n",
      "11:g=1.4145507812500\n",
      "12:g=1.4143066406250\n",
      "13:g=1.4141845703125\n",
      "14:g=1.4142456054688\n",
      "15:g=1.4142150878906\n",
      "16:g=1.4141998291016\n",
      "17:g=1.4142074584961\n",
      "18:g=1.4142112731934\n",
      "19:g=1.4142131805420\n",
      "20:g=1.4142141342163\n",
      "21:g=1.4142136573792\n",
      "22:g=1.4142134189606\n",
      "23:g=1.4142135381699\n",
      "24:g=1.4142135977745\n",
      "25:g=1.4142135679722\n",
      "26:g=1.4142135530710\n",
      "27:g=1.4142135605216\n",
      "28:g=1.4142135642469\n",
      "29:g=1.4142135623842\n",
      "30:g=1.4142135614529\n",
      "31:g=1.4142135619186\n",
      "32:g=1.4142135621514\n",
      "33:g=1.4142135622678\n",
      "34:g=1.4142135623260\n",
      "35:g=1.4142135623551\n",
      "36:g=1.4142135623697\n"
     ]
    }
   ],
   "source": [
    "def Square_root_2():\n",
    "    i=0\n",
    "    c=2\n",
    "    m_max=c\n",
    "    m_min=0\n",
    "    g=(m_min+m_max)/2\n",
    "    while(abs(g*g-c)>0.00000000001):\n",
    "        if(g*g<c):\n",
    "            m_min=g\n",
    "        else:\n",
    "            m_max=g\n",
    "        g=(m_min+m_max)/2\n",
    "        i=i+1\n",
    "        print(\"%d:g=%.13f\"%(i,g))\n",
    "Square_root_2()\n",
    "        "
   ]
  },
  {
   "cell_type": "code",
   "execution_count": 5,
   "id": "c5ea66d0-c0bb-4094-add9-d1479b0b4b31",
   "metadata": {},
   "outputs": [
    {
     "name": "stdout",
     "output_type": "stream",
     "text": [
      "1:1.5000000000000\n",
      "2:1.4166666666667\n",
      "3:1.4142156862745\n",
      "4:1.4142135623747\n"
     ]
    }
   ],
   "source": [
    "def Square_root_3():\n",
    "    c=2\n",
    "    g=c/2\n",
    "    i=0\n",
    "    while(abs(g*g-c)>0.00000000001):\n",
    "        g=(g+c/g)/2\n",
    "        i=i+1\n",
    "        print(\"%d:%.13f\"%(i,g))\n",
    "Square_root_3()"
   ]
  },
  {
   "cell_type": "code",
   "execution_count": null,
   "id": "78fcd69b-7756-4bf5-b879-6ec234090b4f",
   "metadata": {},
   "outputs": [],
   "source": []
  },
  {
   "cell_type": "code",
   "execution_count": null,
   "id": "ecb26c5a-7084-4597-bd22-36d1ce920332",
   "metadata": {},
   "outputs": [],
   "source": []
  }
 ],
 "metadata": {
  "kernelspec": {
   "display_name": "Python 3 (ipykernel)",
   "language": "python",
   "name": "python3"
  },
  "language_info": {
   "codemirror_mode": {
    "name": "ipython",
    "version": 3
   },
   "file_extension": ".py",
   "mimetype": "text/x-python",
   "name": "python",
   "nbconvert_exporter": "python",
   "pygments_lexer": "ipython3",
   "version": "3.9.12"
  }
 },
 "nbformat": 4,
 "nbformat_minor": 5
}
