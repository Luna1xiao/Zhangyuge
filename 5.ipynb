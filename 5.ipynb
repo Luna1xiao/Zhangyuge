{
 "cells": [
  {
   "cell_type": "code",
   "execution_count": 1,
   "id": "3860383f-abe8-4586-9d8f-a1427c943552",
   "metadata": {},
   "outputs": [
    {
     "name": "stdout",
     "output_type": "stream",
     "text": [
      "0.5804666666666667\n"
     ]
    }
   ],
   "source": [
    "import math\n",
    "import random\n",
    "S=2\n",
    "N=30000\n",
    "C=0.0\n",
    "for i in range(N):\n",
    "    x=random.uniform(0.0,1.0)\n",
    "    y=random.uniform(0.0,2.0)\n",
    "    result=x*x*x+x*x\n",
    "    if(result>=y):\n",
    "        C+=1\n",
    "print(C/N*S)\n"
   ]
  },
  {
   "cell_type": "code",
   "execution_count": null,
   "id": "1dc4dc3c-a419-4638-8c80-302cb8ba4bd4",
   "metadata": {},
   "outputs": [],
   "source": []
  }
 ],
 "metadata": {
  "kernelspec": {
   "display_name": "Python 3 (ipykernel)",
   "language": "python",
   "name": "python3"
  },
  "language_info": {
   "codemirror_mode": {
    "name": "ipython",
    "version": 3
   },
   "file_extension": ".py",
   "mimetype": "text/x-python",
   "name": "python",
   "nbconvert_exporter": "python",
   "pygments_lexer": "ipython3",
   "version": "3.9.12"
  }
 },
 "nbformat": 4,
 "nbformat_minor": 5
}
