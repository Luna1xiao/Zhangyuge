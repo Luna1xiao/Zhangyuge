{
 "cells": [
  {
   "cell_type": "code",
   "execution_count": 3,
   "id": "077ba093-d4f4-43fb-a5b3-5d75cdf09bec",
   "metadata": {},
   "outputs": [
    {
     "name": "stdin",
     "output_type": "stream",
     "text": [
      " etyuy yrrwre yhrrwwg\n"
     ]
    },
    {
     "name": "stdout",
     "output_type": "stream",
     "text": [
      "etyuyyrrwreyhrrwwg\n"
     ]
    }
   ],
   "source": [
    "s=input()\n",
    "a=s.replace(\" \",\"\")\n",
    "print(a)"
   ]
  },
  {
   "cell_type": "code",
   "execution_count": null,
   "id": "d5f651c0-71c3-4708-8551-c894075ec79e",
   "metadata": {},
   "outputs": [],
   "source": []
  },
  {
   "cell_type": "code",
   "execution_count": null,
   "id": "e4e690fa-c532-47a6-8f4a-f96b6dd5453f",
   "metadata": {},
   "outputs": [],
   "source": []
  }
 ],
 "metadata": {
  "kernelspec": {
   "display_name": "Python 3 (ipykernel)",
   "language": "python",
   "name": "python3"
  },
  "language_info": {
   "codemirror_mode": {
    "name": "ipython",
    "version": 3
   },
   "file_extension": ".py",
   "mimetype": "text/x-python",
   "name": "python",
   "nbconvert_exporter": "python",
   "pygments_lexer": "ipython3",
   "version": "3.9.12"
  }
 },
 "nbformat": 4,
 "nbformat_minor": 5
}
